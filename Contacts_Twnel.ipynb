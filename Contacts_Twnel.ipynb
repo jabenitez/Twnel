{
 "metadata": {
  "name": "",
  "signature": "sha256:1dee7c7a75dd55dc5bd4cac4e37e23141b3ed00918d75408b10f48368d4611ab"
 },
 "nbformat": 3,
 "nbformat_minor": 0,
 "worksheets": [
  {
   "cells": [
    {
     "cell_type": "code",
     "collapsed": false,
     "input": [
      "#users importance\n",
      "import numpy as np"
     ],
     "language": "python",
     "metadata": {},
     "outputs": [],
     "prompt_number": 1
    },
    {
     "cell_type": "code",
     "collapsed": false,
     "input": [
      "def multiple_n_times(M,n,beta=0.9):\n",
      "    dimensions = len(M)\n",
      "    r = np.ones((dimensions,1))\n",
      "    A = beta * M + (1-beta) / dimensions * np.ones((dimensions,dimensions))\n",
      "    for i in range(n):\n",
      "        r = A * r\n",
      "    return float(len(r)) * r / (np.sum(r))"
     ],
     "language": "python",
     "metadata": {},
     "outputs": [],
     "prompt_number": 2
    },
    {
     "cell_type": "code",
     "collapsed": false,
     "input": [
      "# Example : A very influential A, all contacts have them\n",
      "# A : {BCD} , B : {A} , C  : {A, D} , D : {A}\n",
      "M = np.matrix([[0.0  ,1.0, 0.5, 1.0],\n",
      "               [1.0/3,0.0, 0.0, 0.0],\n",
      "               [1.0/3,0.0, 0.0, 0.0],\n",
      "               [1.0/3,0.0, 0.5, 0.0]])\n",
      "print \"Initial matrix\"\n",
      "print M"
     ],
     "language": "python",
     "metadata": {},
     "outputs": [
      {
       "output_type": "stream",
       "stream": "stdout",
       "text": [
        "Initial matrix\n",
        "[[ 0.          1.          0.5         1.        ]\n",
        " [ 0.33333333  0.          0.          0.        ]\n",
        " [ 0.33333333  0.          0.          0.        ]\n",
        " [ 0.33333333  0.          0.5         0.        ]]\n"
       ]
      }
     ],
     "prompt_number": 4
    },
    {
     "cell_type": "code",
     "collapsed": false,
     "input": [
      "newR = multiple_n_times(M,1000,0.2)\n",
      "print \"After 100 iterations, it converges to\"\n",
      "print newR"
     ],
     "language": "python",
     "metadata": {},
     "outputs": [
      {
       "output_type": "stream",
       "stream": "stdout",
       "text": [
        "After 100 iterations, it converges to\n",
        "[[ 1.25966851]\n",
        " [ 0.8839779 ]\n",
        " [ 0.8839779 ]\n",
        " [ 0.97237569]]\n"
       ]
      }
     ],
     "prompt_number": 5
    },
    {
     "cell_type": "code",
     "collapsed": false,
     "input": [
      "# Example : A very influential A, all contacts have them. \n",
      "#now C only has D which reduces the importance of A and increases the one of A\n",
      "# A : {BCD} , B : {A} , C  : {D} , D : {A}\n",
      "M = np.matrix([[0.0  ,1.0, 0.0, 1.0],\n",
      "               [1.0/3,0.0, 0.0, 0.0],\n",
      "               [1.0/3,0.0, 0.0, 0.0],\n",
      "               [1.0/3,0.0, 1.0, 0.0]])\n",
      "print \"Initial matrix\"\n",
      "print M"
     ],
     "language": "python",
     "metadata": {},
     "outputs": [
      {
       "output_type": "stream",
       "stream": "stdout",
       "text": [
        "Initial matrix\n",
        "[[ 0.          1.          0.          1.        ]\n",
        " [ 0.33333333  0.          0.          0.        ]\n",
        " [ 0.33333333  0.          0.          0.        ]\n",
        " [ 0.33333333  0.          1.          0.        ]]\n"
       ]
      }
     ],
     "prompt_number": 193
    },
    {
     "cell_type": "code",
     "collapsed": false,
     "input": [
      "newR = multiple_n_times(M,100,0.2)\n",
      "print \"After 100 iterations, it converges to\"\n",
      "print newR"
     ],
     "language": "python",
     "metadata": {},
     "outputs": [
      {
       "output_type": "stream",
       "stream": "stdout",
       "text": [
        "After 100 iterations, it converges to\n",
        "[[ 1.18681319]\n",
        " [ 0.87912088]\n",
        " [ 0.87912088]\n",
        " [ 1.05494505]]\n"
       ]
      }
     ],
     "prompt_number": 195
    },
    {
     "cell_type": "code",
     "collapsed": false,
     "input": [
      "# Example : Spider trap: D only has C, and C only has D\n",
      "# A : {BD} , B : {A} , C  : {D} , D : {C}\n",
      "M = np.matrix([[0.0 ,1.0, 0.0, 0.0],\n",
      "               [0.5 ,0.0, 0.0, 0.0],\n",
      "               [0.0 ,0.0, 0.0, 1.0],\n",
      "               [0.5 ,0.0, 1.0, 0.0]])\n",
      "print \"Initial matrix\"\n",
      "print M"
     ],
     "language": "python",
     "metadata": {},
     "outputs": [
      {
       "output_type": "stream",
       "stream": "stdout",
       "text": [
        "Initial matrix\n",
        "[[ 0.   1.   0.   0. ]\n",
        " [ 0.5  0.   0.   0. ]\n",
        " [ 0.   0.   0.   1. ]\n",
        " [ 0.5  0.   1.   0. ]]\n"
       ]
      }
     ],
     "prompt_number": 201
    },
    {
     "cell_type": "code",
     "collapsed": false,
     "input": [
      "# Spider trap , no taxation, C and D take all the importance\n",
      "newR = multiple_n_times(M,100,1.0)\n",
      "print \"After 100 iterations, it converges to\"\n",
      "print newR"
     ],
     "language": "python",
     "metadata": {},
     "outputs": [
      {
       "output_type": "stream",
       "stream": "stdout",
       "text": [
        "After 100 iterations, it converges to\n",
        "[[  8.88178420e-16]\n",
        " [  8.88178420e-16]\n",
        " [  2.00000000e+00]\n",
        " [  2.00000000e+00]]\n"
       ]
      }
     ],
     "prompt_number": 202
    },
    {
     "cell_type": "code",
     "collapsed": false,
     "input": [
      "# Spider trap, heavily taxed beta = 0.4\n",
      "newR = multiple_n_times(M,100,0.4)\n",
      "print \"After 100 iterations, it converges to\"\n",
      "print newR"
     ],
     "language": "python",
     "metadata": {},
     "outputs": [
      {
       "output_type": "stream",
       "stream": "stdout",
       "text": [
        "After 100 iterations, it converges to\n",
        "[[ 0.91304348]\n",
        " [ 0.7826087 ]\n",
        " [ 1.08695652]\n",
        " [ 1.2173913 ]]\n"
       ]
      }
     ],
     "prompt_number": 203
    },
    {
     "cell_type": "code",
     "collapsed": false,
     "input": [
      "# Example : A very influential A, all contacts have them \n",
      "# Nobody has B in their contact list\n",
      "# A : {D} , B : {A} , C  : {A,D} , D : {A,C}\n",
      "M = np.matrix([[0.0, 1.0, 0.5, 0.5],\n",
      "               [0.0, 0.0, 0.0, 0.0],\n",
      "               [0.0, 0.0, 0.0, 0.5],\n",
      "               [1.0, 0.0, 0.5, 0.0]])\n",
      "print \"Initial matrix\"\n",
      "print M"
     ],
     "language": "python",
     "metadata": {},
     "outputs": [
      {
       "output_type": "stream",
       "stream": "stdout",
       "text": [
        "Initial matrix\n",
        "[[ 0.   1.   0.5  0.5]\n",
        " [ 0.   0.   0.   0. ]\n",
        " [ 0.   0.   0.   0.5]\n",
        " [ 1.   0.   0.5  0. ]]\n"
       ]
      }
     ],
     "prompt_number": 170
    },
    {
     "cell_type": "code",
     "collapsed": false,
     "input": [
      "newR = multiple_n_times(M,100,.4)\n",
      "print \"After 100 iterations, it converges to\"\n",
      "print newR"
     ],
     "language": "python",
     "metadata": {},
     "outputs": [
      {
       "output_type": "stream",
       "stream": "stdout",
       "text": [
        "After 100 iterations, it converges to\n",
        "[[ 0.91304348]\n",
        " [ 0.7826087 ]\n",
        " [ 1.08695652]\n",
        " [ 1.2173913 ]]\n"
       ]
      }
     ],
     "prompt_number": 205
    },
    {
     "cell_type": "code",
     "collapsed": false,
     "input": [
      "# Example : A very influential A, all contacts have them,\n",
      "# D has an empty contact list\n",
      "# A : {C,D} , B : {A} , C  : {D} , D : {}\n",
      "# D has an empty contact list\n",
      "M = np.matrix([[0.0, 1.0, 0.0, 0.0],\n",
      "               [0.0, 0.0, 0.0, 0.0],\n",
      "               [0.5, 0.0, 0.0, 0.0],\n",
      "               [0.5, 0.0, 1.0, 0.0]])\n",
      "print \"Initial matrix\"\n",
      "print M"
     ],
     "language": "python",
     "metadata": {},
     "outputs": [
      {
       "output_type": "stream",
       "stream": "stdout",
       "text": [
        "Initial matrix\n",
        "[[ 0.   1.   0.   0. ]\n",
        " [ 0.   0.   0.   0. ]\n",
        " [ 0.5  0.   0.   0. ]\n",
        " [ 0.5  0.   1.   0. ]]\n"
       ]
      }
     ],
     "prompt_number": 207
    },
    {
     "cell_type": "code",
     "collapsed": false,
     "input": [
      "newR = multiple_n_times(M,100,0.4)\n",
      "print \"After 100 iterations, it converges to\"\n",
      "print newR"
     ],
     "language": "python",
     "metadata": {},
     "outputs": [
      {
       "output_type": "stream",
       "stream": "stdout",
       "text": [
        "After 100 iterations, it converges to\n",
        "[[ 1.01594558]\n",
        " [ 0.69444397]\n",
        " [ 0.92961639]\n",
        " [ 1.35999406]]\n"
       ]
      }
     ],
     "prompt_number": 211
    },
    {
     "cell_type": "code",
     "collapsed": false,
     "input": [
      "# Example : A very influential A, all contacts have them,\n",
      "# D has an empty contact list, and nobody has them in their contact list\n",
      "# A : {B,C} , B : {A} , C  : {A,B} , D : {}\n",
      "# D has an empty contact list\n",
      "M = np.matrix([[0.0, 1.0, 0.5, 0.0],\n",
      "               [0.5, 0.0, 0.5, 0.0],\n",
      "               [0.5, 0.0, 0.0, 0.0],\n",
      "               [0.0, 0.0, 0.0, 0.0]])\n",
      "print \"Initial matrix\"\n",
      "print M"
     ],
     "language": "python",
     "metadata": {},
     "outputs": [
      {
       "output_type": "stream",
       "stream": "stdout",
       "text": [
        "Initial matrix\n",
        "[[ 0.   1.   0.5  0. ]\n",
        " [ 0.5  0.   0.5  0. ]\n",
        " [ 0.5  0.   0.   0. ]\n",
        " [ 0.   0.   0.   0. ]]\n"
       ]
      }
     ],
     "prompt_number": 212
    },
    {
     "cell_type": "code",
     "collapsed": false,
     "input": [
      "newR = multiple_n_times(M,100,0.4)\n",
      "print \"After 100 iterations, it converges to\"\n",
      "print newR"
     ],
     "language": "python",
     "metadata": {},
     "outputs": [
      {
       "output_type": "stream",
       "stream": "stdout",
       "text": [
        "After 100 iterations, it converges to\n",
        "[[ 1.31677057]\n",
        " [ 1.11963298]\n",
        " [ 0.92249539]\n",
        " [ 0.64110106]]\n"
       ]
      }
     ],
     "prompt_number": 213
    },
    {
     "cell_type": "code",
     "collapsed": false,
     "input": [
      "# Example : Dead end\n",
      "# A : {C} , B : {A} , C  : {A,B,D} , D : {E} , E : {}\n",
      "# D has an empty contact list\n",
      "M = np.matrix([[0.0, 1.0, 1.0/3, 0.0, 0.0],\n",
      "               [0.0, 0.0, 1.0/3, 0.0, 0.0],\n",
      "               [1.0, 0.0, 0.0  , 0.0, 0.0],\n",
      "               [0.0, 0.0, 1.0/3, 0.0, 0.0],\n",
      "               [0.0, 0.0, 0.0  , 1.0, 0.0]])\n",
      "print \"Initial matrix\"\n",
      "print M"
     ],
     "language": "python",
     "metadata": {},
     "outputs": [
      {
       "output_type": "stream",
       "stream": "stdout",
       "text": [
        "Initial matrix\n",
        "[[ 0.          1.          0.33333333  0.          0.        ]\n",
        " [ 0.          0.          0.33333333  0.          0.        ]\n",
        " [ 1.          0.          0.          0.          0.        ]\n",
        " [ 0.          0.          0.33333333  0.          0.        ]\n",
        " [ 0.          0.          0.          1.          0.        ]]\n"
       ]
      }
     ],
     "prompt_number": 220
    },
    {
     "cell_type": "code",
     "collapsed": false,
     "input": [
      "newR = multiple_n_times(M,100,0.9)\n",
      "print \"After 100 iterations, it converges to\"\n",
      "print newR"
     ],
     "language": "python",
     "metadata": {},
     "outputs": [
      {
       "output_type": "stream",
       "stream": "stdout",
       "text": [
        "After 100 iterations, it converges to\n",
        "[[ 1.34626726]\n",
        " [ 0.6557331 ]\n",
        " [ 1.53472438]\n",
        " [ 0.6557331 ]\n",
        " [ 0.80754217]]\n"
       ]
      }
     ],
     "prompt_number": 224
    },
    {
     "cell_type": "code",
     "collapsed": false,
     "input": [
      "import json\n",
      "import csv\n",
      "from pprint import pprint"
     ],
     "language": "python",
     "metadata": {},
     "outputs": [],
     "prompt_number": 18
    },
    {
     "cell_type": "code",
     "collapsed": false,
     "input": [
      "A = {\n",
      "  'phoneNumber' : '+573014311354', # <- id de usuario\n",
      "  'numbers' : { # listado de numeros de contactos en formato numero: {firstName, lastName}\n",
      "    \"+18889982663\" : { \"lastName\" : \"Conference Room\", \"firstName\" : \"Deloitte\" },\n",
      "    \"+573002187949\" : { \"firstName\" : \"Agustin\", \"lastName\" : \"Velez\" }\n",
      "  },\n",
      "  'created_at' : { \"$date\" : 1393859057724 }, # Metadata\n",
      "  '_id'  : { \"$oid\" : \"531499f12e335abc4400008d\" } # Metadata\n",
      "}"
     ],
     "language": "python",
     "metadata": {},
     "outputs": [],
     "prompt_number": 255
    },
    {
     "cell_type": "code",
     "collapsed": false,
     "input": [
      "A['numbers']['+18889982663']['firstName']"
     ],
     "language": "python",
     "metadata": {},
     "outputs": [
      {
       "metadata": {},
       "output_type": "pyout",
       "prompt_number": 256,
       "text": [
        "'Deloitte'"
       ]
      }
     ],
     "prompt_number": 256
    },
    {
     "cell_type": "code",
     "collapsed": false,
     "input": [
      "data = []\n",
      "number_indexes = {}\n",
      "with open('contacts_test.json') as json_data:\n",
      "    i = 0\n",
      "    csvfile = open('eggs.csv', 'w+')\n",
      "    csvfile.write('Source;Target\\n')\n",
      "\n",
      "    for line in json_data:\n",
      "        i += 1\n",
      "        jline = json.loads(line)\n",
      "        data.append(jline)\n",
      "        number = jline['phoneNumber']\n",
      "        \n",
      "        number_indexes[number] = i\n",
      "\n",
      "#            mycsv_file = csv.writer(csvfile, delimiter=',',\n",
      " #                       quotechar='|', quoting=csv.QUOTE_MINIMAL)\n",
      "        if i % 1 == 0:\n",
      "            #print \"contact, \", type(number), \" val\", number\n",
      "            x = clean_number(number)\n",
      "#            print \"i CCC> \", i, \"number \", number, \" number, \", number\n",
      " #          mycsv_file.writerow([number,number])\n",
      "#            csvfile.write('%s, %s\\n'%(number,number))\n",
      "            for contact in jline['numbers']:\n",
      "                contact = clean_number(contact)\n",
      "                #print \"i> \", i, \"number \", number, \" contact, \", contact\n",
      "                csvfile.write('%s;%s\\n'%(number,contact))\n",
      " #              mycsv_file.writerow([number,contact])\n",
      "#        print i\n",
      "        \n",
      "    #    print json_data\n",
      "#    d = json.loads(json_data)\n",
      "#    json.dumps([1,2,3,{'4': 5, '6': 7}], separators=(',',':'))\n",
      "#'[1,2,3,{\"4\":5,\"6\":7}]'\n",
      "#    json_data.close()\n",
      "#    pprint(d)\n",
      " "
     ],
     "language": "python",
     "metadata": {},
     "outputs": [],
     "prompt_number": 87
    },
    {
     "cell_type": "code",
     "collapsed": false,
     "input": [
      "number_indexes['+573107727840']"
     ],
     "language": "python",
     "metadata": {},
     "outputs": [
      {
       "metadata": {},
       "output_type": "pyout",
       "prompt_number": 291,
       "text": [
        "1"
       ]
      }
     ],
     "prompt_number": 291
    },
    {
     "cell_type": "code",
     "collapsed": false,
     "input": [
      "def clean_number(number):\n",
      "    return number.encode('ascii','ignore')\n",
      "    #return number.translate(None,'+')\n",
      "    "
     ],
     "language": "python",
     "metadata": {},
     "outputs": [],
     "prompt_number": 54
    },
    {
     "cell_type": "code",
     "collapsed": false,
     "input": [
      "print clean_number('+573107727840')"
     ],
     "language": "python",
     "metadata": {},
     "outputs": [
      {
       "output_type": "stream",
       "stream": "stdout",
       "text": [
        "you entered +573107727840 here\n",
        "+573107727840\n"
       ]
      }
     ],
     "prompt_number": 48
    },
    {
     "cell_type": "code",
     "collapsed": false,
     "input": [
      "print data[10]['phoneNumber']"
     ],
     "language": "python",
     "metadata": {},
     "outputs": [
      {
       "output_type": "stream",
       "stream": "stdout",
       "text": [
        "+571487\n"
       ]
      }
     ],
     "prompt_number": 282
    },
    {
     "cell_type": "code",
     "collapsed": false,
     "input": [
      "M = np.zeros((100,100))"
     ],
     "language": "python",
     "metadata": {},
     "outputs": [],
     "prompt_number": 299
    },
    {
     "cell_type": "code",
     "collapsed": false,
     "input": [
      "for i in range(100):\n",
      "    for contact in data[i]['numbers']:\n",
      "        try:\n",
      "            print number_indexes[contact]\n",
      "        except :\n",
      "            pass\n",
      "        "
     ],
     "language": "python",
     "metadata": {},
     "outputs": [
      {
       "output_type": "stream",
       "stream": "stdout",
       "text": [
        "19\n",
        "10\n",
        "70\n",
        "7\n",
        "20\n",
        "94\n",
        "57\n",
        "79\n",
        "87\n",
        "61\n",
        "58\n",
        "34\n",
        "58\n",
        "28\n",
        "79\n",
        "61\n",
        "43\n",
        "49\n",
        "97\n",
        "94\n",
        "28\n",
        "79\n",
        "87\n",
        "61\n",
        "34\n",
        "59\n",
        "28\n",
        "34\n",
        "79\n",
        "87\n",
        "58\n",
        "85\n",
        "65\n",
        "16\n",
        "75\n",
        "43\n",
        "61\n",
        "79\n",
        "28\n",
        "58\n",
        "34\n",
        "20\n",
        "57\n",
        "95\n",
        "96\n"
       ]
      }
     ],
     "prompt_number": 304
    },
    {
     "cell_type": "code",
     "collapsed": false,
     "input": [
      "pprint(data[15])"
     ],
     "language": "python",
     "metadata": {},
     "outputs": [
      {
       "output_type": "stream",
       "stream": "stdout",
       "text": [
        "{u'_id': {u'$oid': u'531499ea2e335abc44000019'},\n",
        " u'created_at': {u'$date': 1393859050195},\n",
        " u'numbers': {u'+57*123': {u'firstName': u'Buzon', u'lastName': u'de'},\n",
        "              u'+57*611': {u'firstName': u'Atencion', u'lastName': u'al'},\n",
        "              u'+57111': {u'firstName': u'Atencion', u'lastName': u'de'},\n",
        "              u'+57112': {u'firstName': u'Policia', u'lastName': u''},\n",
        "              u'+57119': {u'firstName': u'Bomberos', u'lastName': u''},\n",
        "              u'+57123': {u'firstName': u'Numero', u'lastName': u'unico'},\n",
        "              u'+57125': {u'firstName': u'Ambulancia', u'lastName': u''},\n",
        "              u'+57126': {u'firstName': u'Transito',\n",
        "                          u'lastName': u'departamental'},\n",
        "              u'+57127': {u'firstName': u'Transito',\n",
        "                          u'lastName': u'municipal'},\n",
        "              u'+57132': {u'firstName': u'Cruz', u'lastName': u'roja'},\n",
        "              u'+57144': {u'firstName': u'Defensa', u'lastName': u'civil'},\n",
        "              u'+57146': {u'firstName': u'Asistencia', u'lastName': u'de'},\n",
        "              u'+57147': {u'firstName': u'Antisecuestro,',\n",
        "                          u'lastName': u'antiterrorismo'},\n",
        "              u'+57156': {u'firstName': u'CAI', u'lastName': u'-'},\n",
        "              u'+57165': {u'firstName': u'GAULA', u'lastName': u'POLICIA'},\n",
        "              u'+573103333333': {u'firstName': u'Roaming',\n",
        "                                 u'lastName': u'Internacional'},\n",
        "              u'+573105008867': {u'firstName': u'Mother', u'lastName': u':)'},\n",
        "              u'+573113693998': {u'firstName': u'Edwar',\n",
        "                                 u'lastName': u'Fierro'},\n",
        "              u'+573117950310': {u'firstName': u'Lizbeth', u'lastName': u''},\n",
        "              u'+573118985988': {u'firstName': u'Don',\n",
        "                                 u'lastName': u'Andr\\xe9s'},\n",
        "              u'+573122939850': {u'firstName': u'Juan',\n",
        "                                 u'lastName': u'Carlos'},\n",
        "              u'+573128874482': {u'firstName': u'Jhonpix', u'lastName': u''},\n",
        "              u'+573137233024': {u'firstName': u'Nathaly', u'lastName': u''},\n",
        "              u'+573146055374': {u'firstName': u'Trigueros',\n",
        "                                 u'lastName': u''},\n",
        "              u'+573147414153': {u'firstName': u'Father', u'lastName': u''},\n",
        "              u'+573148189580': {u'firstName': u'Brother', u'lastName': u''},\n",
        "              u'+573156940888': {u'firstName': u'Junior', u'lastName': u''},\n",
        "              u'+573162578767': {u'firstName': u'Lina',\n",
        "                                 u'lastName': u'Prado'},\n",
        "              u'+573165615468': {u'firstName': u'Milton', u'lastName': u''},\n",
        "              u'+573174706242': {u'firstName': u'Jhonatan', u'lastName': u''},\n",
        "              u'+573184017610': {u'firstName': u'Leidy',\n",
        "                                 u'lastName': u'\"Sena\"'},\n",
        "              u'+573185272816': {u'firstName': u'Aniita',\n",
        "                                 u'lastName': u'Prado'},\n",
        "              u'+573206348894': {u'firstName': u'Laurita',\n",
        "                                 u'lastName': u'MARSAN'},\n",
        "              u'+573206703907': {u'firstName': u'Carlos',\n",
        "                                 u'lastName': u'Giron'},\n",
        "              u'+573215532392': {u'firstName': u'Yeimi', u'lastName': u''},\n",
        "              u'+573216148900': {u'firstName': u'Jhonatan', u'lastName': u''},\n",
        "              u'+57\\u202a+573146656051\\u202c': {u'firstName': u'Cristian',\n",
        "                                                u'lastName': u'P'}},\n",
        " u'phoneNumber': u'+573216662641'}\n"
       ]
      }
     ],
     "prompt_number": 294
    },
    {
     "cell_type": "code",
     "collapsed": false,
     "input": [],
     "language": "python",
     "metadata": {},
     "outputs": []
    }
   ],
   "metadata": {}
  }
 ]
}